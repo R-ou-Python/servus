{
 "cells": [
  {
   "cell_type": "code",
   "execution_count": 66,
   "metadata": {},
   "outputs": [],
   "source": [
    "import os, glob, json, spacy, pickle\n",
    "\n",
    "import pandas as pd\n",
    "import numpy as np\n",
    "\n",
    "from functools import reduce"
   ]
  },
  {
   "cell_type": "code",
   "execution_count": 67,
   "metadata": {},
   "outputs": [],
   "source": [
    "nlp = spacy.load('pt_core_news_lg')"
   ]
  },
  {
   "cell_type": "code",
   "execution_count": 76,
   "metadata": {},
   "outputs": [],
   "source": [
    "annotated = glob.glob(r'../data/raw/v2/*.json')"
   ]
  },
  {
   "cell_type": "code",
   "execution_count": 77,
   "metadata": {},
   "outputs": [
    {
     "data": {
      "text/plain": [
       "['../data/raw/v2/solicitacoes2.json',\n",
       " '../data/raw/v2/oficios.json',\n",
       " '../data/raw/v2/solicitacoes.json']"
      ]
     },
     "execution_count": 77,
     "metadata": {},
     "output_type": "execute_result"
    }
   ],
   "source": [
    "annotated"
   ]
  },
  {
   "cell_type": "code",
   "execution_count": 78,
   "metadata": {},
   "outputs": [],
   "source": [
    "jfile = ' '.join(open(annotated[1], 'r', encoding='utf-8').readlines())"
   ]
  },
  {
   "cell_type": "code",
   "execution_count": 79,
   "metadata": {},
   "outputs": [],
   "source": [
    "TAG_TRANSLATE = {\n",
    "    '\"DESPESAPUBLICA\"' : '\"CONTROLEEXTERNO\"',\n",
    "    '\"DESPESAPESSOAL\"' : '\"CONTROLEEXTERNO\"',\n",
    "    '\"CONTRATO\"' : '\"CONTROLEEXTERNO\"',\n",
    "    '\"PROCESSO\"' : '\"CONTROLEEXTERNO\"',\n",
    "    '\"CPF\"' : '\"DOCUMENTO\"',\n",
    "    '\"CNPJ\"' : '\"DOCUMENTO\"',\n",
    "    '\"LICITACAO\"' : '\"CONTROLEEXTERNO\"',\n",
    "    '\"PF\"' : '\"PESSOA\"',\n",
    "    '\"PJ\"' : '\"ORGANIZACAO\"',\n",
    "    '\"ORGAO\"' : '\"ORGANIZACAO\"'    \n",
    "}"
   ]
  },
  {
   "cell_type": "code",
   "execution_count": 80,
   "metadata": {},
   "outputs": [],
   "source": [
    "final_json = []\n",
    "for f in annotated:\n",
    "    c = ' '.join(open(f, 'r', encoding='utf-8').readlines())\n",
    "    for k,v in TAG_TRANSLATE.items():\n",
    "        c = c.replace(k,v)\n",
    "    final_json.extend(json.loads(c))"
   ]
  },
  {
   "cell_type": "code",
   "execution_count": 81,
   "metadata": {},
   "outputs": [],
   "source": [
    "with open(r'../data/raw/v2/annotated.pkl', 'wb') as f:\n",
    "    pickle.dump(final_json, f)"
   ]
  },
  {
   "cell_type": "code",
   "execution_count": null,
   "metadata": {},
   "outputs": [],
   "source": []
  }
 ],
 "metadata": {
  "kernelspec": {
   "display_name": "Python 3",
   "language": "python",
   "name": "python3"
  },
  "language_info": {
   "codemirror_mode": {
    "name": "ipython",
    "version": 3
   },
   "file_extension": ".py",
   "mimetype": "text/x-python",
   "name": "python",
   "nbconvert_exporter": "python",
   "pygments_lexer": "ipython3",
   "version": "3.8.5"
  }
 },
 "nbformat": 4,
 "nbformat_minor": 4
}
