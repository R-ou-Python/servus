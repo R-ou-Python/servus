{
 "cells": [
  {
   "cell_type": "code",
   "execution_count": 3,
   "metadata": {},
   "outputs": [],
   "source": [
    "import os, glob, json\n",
    "\n",
    "import numpy as np\n",
    "import pandas as pd\n",
    "\n",
    "import keras\n",
    "\n",
    "from keras.models import Sequential, Model\n",
    "from keras.layers import LSTM, Input\n",
    "from keras.layers import Dense\n",
    "from keras.layers import TimeDistributed\n",
    "from keras.layers import Bidirectional\n",
    "from keras.utils import to_categorical\n",
    "\n",
    "from sklearn.model_selection import train_test_split\n",
    "from sklearn.metrics import classification_report, confusion_matrix"
   ]
  },
  {
   "cell_type": "markdown",
   "metadata": {},
   "source": [
    "Conjunto de teste"
   ]
  },
  {
   "cell_type": "code",
   "execution_count": 7,
   "metadata": {},
   "outputs": [],
   "source": [
    "dataset = pd.read_pickle(r'../data/trainset/dataset.pkl')"
   ]
  },
  {
   "cell_type": "code",
   "execution_count": 8,
   "metadata": {},
   "outputs": [],
   "source": [
    "X = np.array([[list(y) for y in list(x)] for x in dataset.features.values])\n",
    "#X = dataset.features.values\n",
    "y = dataset.label.values\n",
    "y = to_categorical(y)"
   ]
  },
  {
   "cell_type": "code",
   "execution_count": 9,
   "metadata": {},
   "outputs": [],
   "source": [
    "X_train, X_test, y_train, y_test = train_test_split(X, y, test_size=0.33, random_state=42)"
   ]
  },
  {
   "cell_type": "code",
   "execution_count": 10,
   "metadata": {},
   "outputs": [
    {
     "data": {
      "text/plain": [
       "(1192, 23, 130)"
      ]
     },
     "execution_count": 10,
     "metadata": {},
     "output_type": "execute_result"
    }
   ],
   "source": [
    "X.shape"
   ]
  },
  {
   "cell_type": "code",
   "execution_count": 11,
   "metadata": {},
   "outputs": [
    {
     "data": {
      "text/plain": [
       "array([0., 1., 0.], dtype=float32)"
      ]
     },
     "execution_count": 11,
     "metadata": {},
     "output_type": "execute_result"
    }
   ],
   "source": [
    "y[0]"
   ]
  },
  {
   "cell_type": "code",
   "execution_count": 12,
   "metadata": {},
   "outputs": [
    {
     "data": {
      "text/plain": [
       "array([[1., 0., 0.],\n",
       "       [0., 1., 0.],\n",
       "       [0., 1., 0.],\n",
       "       ...,\n",
       "       [0., 1., 0.],\n",
       "       [0., 0., 1.],\n",
       "       [0., 0., 1.]], dtype=float32)"
      ]
     },
     "execution_count": 12,
     "metadata": {},
     "output_type": "execute_result"
    }
   ],
   "source": [
    "y_test"
   ]
  },
  {
   "cell_type": "code",
   "execution_count": 13,
   "metadata": {},
   "outputs": [],
   "source": [
    "INPUT_SHAPE = (23,130)"
   ]
  },
  {
   "cell_type": "markdown",
   "metadata": {},
   "source": [
    "Modelos"
   ]
  },
  {
   "cell_type": "code",
   "execution_count": 14,
   "metadata": {},
   "outputs": [],
   "source": [
    "class BiLTSM():\n",
    "    def __init__(self, n_hidden_layers, units_per_layer, dropout=0.5):\n",
    "        self.n_hidden_layers = n_hidden_layers\n",
    "        self.units_per_layer = units_per_layer\n",
    "        self.dropout = dropout\n",
    "    \n",
    "    def build_model(self):\n",
    "        metrcs = ['accuracy']\n",
    "        '''\n",
    "        self.model = Sequential();\n",
    "        for i in range(self.n_hidden_layers-1):\n",
    "            self.model.add(Bidirectional(LSTM(units=self.units_per_layer,\n",
    "                        input_shape=INPUT_SHAPE,\n",
    "                      return_sequences=False)))\n",
    "        self.model.add(Bidirectional(LSTM(self.units_per_layer,\n",
    "                        input_shape=INPUT_SHAPE,\n",
    "                      return_sequences=False)))\n",
    "        self.model.add(Dense(3, activation='softmax'))\n",
    "        '''\n",
    "        inp = Input(shape=(23, 130))\n",
    "        x = Bidirectional(LSTM(120, return_sequences=True))(inp)\n",
    "        x = Bidirectional(LSTM(120, return_sequences=True))(x)\n",
    "        x = Bidirectional(LSTM(120, return_sequences=False))(x)\n",
    "        x = Dense(3, activation='softmax')(x)\n",
    "        \n",
    "        self.model = Model(inp, x)\n",
    "\n",
    "        #self.model.summary()\n",
    "        self.model.compile(loss='categorical_crossentropy',optimizer=keras.optimizers.Adam(), metrics=metrcs)\n",
    "        \n",
    "    def fit_model(self, epochs):\n",
    "        self.model.fit(X_train, y_train, \n",
    "                       validation_split=.3, \n",
    "                       epochs=epochs, batch_size=32)"
   ]
  },
  {
   "cell_type": "code",
   "execution_count": 15,
   "metadata": {},
   "outputs": [],
   "source": [
    "model1 = BiLTSM(1, 120)"
   ]
  },
  {
   "cell_type": "code",
   "execution_count": 16,
   "metadata": {},
   "outputs": [],
   "source": [
    "model1.build_model()"
   ]
  },
  {
   "cell_type": "code",
   "execution_count": 17,
   "metadata": {},
   "outputs": [
    {
     "name": "stdout",
     "output_type": "stream",
     "text": [
      "Model: \"model\"\n",
      "_________________________________________________________________\n",
      "Layer (type)                 Output Shape              Param #   \n",
      "=================================================================\n",
      "input_1 (InputLayer)         [(None, 23, 130)]         0         \n",
      "_________________________________________________________________\n",
      "bidirectional (Bidirectional (None, 23, 240)           240960    \n",
      "_________________________________________________________________\n",
      "bidirectional_1 (Bidirection (None, 23, 240)           346560    \n",
      "_________________________________________________________________\n",
      "bidirectional_2 (Bidirection (None, 240)               346560    \n",
      "_________________________________________________________________\n",
      "dense (Dense)                (None, 3)                 723       \n",
      "=================================================================\n",
      "Total params: 934,803\n",
      "Trainable params: 934,803\n",
      "Non-trainable params: 0\n",
      "_________________________________________________________________\n"
     ]
    }
   ],
   "source": [
    "model1.model.summary()"
   ]
  },
  {
   "cell_type": "code",
   "execution_count": null,
   "metadata": {
    "scrolled": true
   },
   "outputs": [
    {
     "name": "stdout",
     "output_type": "stream",
     "text": [
      "Epoch 1/100\n",
      "18/18 [==============================] - 2s 124ms/step - loss: 0.9463 - accuracy: 0.5125 - val_loss: 0.7326 - val_accuracy: 0.6417\n",
      "Epoch 2/100\n",
      "18/18 [==============================] - 1s 52ms/step - loss: 0.6298 - accuracy: 0.6953 - val_loss: 0.7131 - val_accuracy: 0.6458\n",
      "Epoch 3/100\n",
      "18/18 [==============================] - 1s 53ms/step - loss: 0.5098 - accuracy: 0.7581 - val_loss: 0.5336 - val_accuracy: 0.7958\n",
      "Epoch 4/100\n",
      "18/18 [==============================] - 1s 53ms/step - loss: 0.4729 - accuracy: 0.7437 - val_loss: 0.4945 - val_accuracy: 0.7375\n",
      "Epoch 5/100\n",
      "18/18 [==============================] - 1s 53ms/step - loss: 0.3820 - accuracy: 0.8297 - val_loss: 0.6407 - val_accuracy: 0.7167\n",
      "Epoch 6/100\n",
      "18/18 [==============================] - 1s 53ms/step - loss: 0.3894 - accuracy: 0.8047 - val_loss: 0.3768 - val_accuracy: 0.8208\n",
      "Epoch 7/100\n",
      "18/18 [==============================] - 1s 52ms/step - loss: 0.3036 - accuracy: 0.8674 - val_loss: 0.3444 - val_accuracy: 0.8333\n",
      "Epoch 8/100\n",
      "18/18 [==============================] - 1s 57ms/step - loss: 0.2493 - accuracy: 0.8943 - val_loss: 0.4161 - val_accuracy: 0.8125\n",
      "Epoch 9/100\n",
      "18/18 [==============================] - 1s 59ms/step - loss: 0.3207 - accuracy: 0.8835 - val_loss: 0.3731 - val_accuracy: 0.8167\n",
      "Epoch 10/100\n",
      "18/18 [==============================] - 1s 57ms/step - loss: 0.2536 - accuracy: 0.8835 - val_loss: 0.3055 - val_accuracy: 0.8667\n",
      "Epoch 11/100\n",
      "18/18 [==============================] - 1s 57ms/step - loss: 0.2921 - accuracy: 0.8871 - val_loss: 0.4220 - val_accuracy: 0.8167\n",
      "Epoch 12/100\n",
      "18/18 [==============================] - 1s 56ms/step - loss: 0.2475 - accuracy: 0.9050 - val_loss: 0.4058 - val_accuracy: 0.8500\n",
      "Epoch 13/100\n",
      "18/18 [==============================] - 1s 55ms/step - loss: 0.1790 - accuracy: 0.9301 - val_loss: 0.6020 - val_accuracy: 0.7875\n",
      "Epoch 14/100\n",
      "18/18 [==============================] - 1s 56ms/step - loss: 0.2709 - accuracy: 0.8907 - val_loss: 0.3677 - val_accuracy: 0.8500\n",
      "Epoch 15/100\n",
      "18/18 [==============================] - 1s 55ms/step - loss: 0.1809 - accuracy: 0.9480 - val_loss: 0.3236 - val_accuracy: 0.9000\n",
      "Epoch 16/100\n",
      "18/18 [==============================] - 1s 54ms/step - loss: 0.1316 - accuracy: 0.9462 - val_loss: 0.3835 - val_accuracy: 0.8542\n",
      "Epoch 17/100\n",
      "18/18 [==============================] - 1s 61ms/step - loss: 0.1551 - accuracy: 0.9373 - val_loss: 0.4713 - val_accuracy: 0.8708\n",
      "Epoch 18/100\n",
      "18/18 [==============================] - 1s 57ms/step - loss: 0.1281 - accuracy: 0.9570 - val_loss: 0.3349 - val_accuracy: 0.8625\n",
      "Epoch 19/100\n",
      "18/18 [==============================] - 1s 57ms/step - loss: 0.1342 - accuracy: 0.9480 - val_loss: 0.3501 - val_accuracy: 0.8917\n",
      "Epoch 20/100\n",
      "18/18 [==============================] - 1s 55ms/step - loss: 0.1252 - accuracy: 0.9516 - val_loss: 0.3544 - val_accuracy: 0.8708\n",
      "Epoch 21/100\n",
      "18/18 [==============================] - 1s 54ms/step - loss: 0.1353 - accuracy: 0.9373 - val_loss: 0.3308 - val_accuracy: 0.9000\n",
      "Epoch 22/100\n",
      "18/18 [==============================] - 1s 60ms/step - loss: 0.0973 - accuracy: 0.9552 - val_loss: 0.6628 - val_accuracy: 0.8542\n",
      "Epoch 23/100\n",
      "18/18 [==============================] - 1s 54ms/step - loss: 0.2693 - accuracy: 0.9050 - val_loss: 0.4052 - val_accuracy: 0.8333\n",
      "Epoch 24/100\n",
      "18/18 [==============================] - 1s 54ms/step - loss: 0.1393 - accuracy: 0.9570 - val_loss: 0.3087 - val_accuracy: 0.8917\n",
      "Epoch 25/100\n",
      "18/18 [==============================] - 1s 55ms/step - loss: 0.0925 - accuracy: 0.9624 - val_loss: 0.4494 - val_accuracy: 0.8792\n",
      "Epoch 26/100\n",
      "18/18 [==============================] - 1s 57ms/step - loss: 0.1292 - accuracy: 0.9498 - val_loss: 0.3859 - val_accuracy: 0.8875\n",
      "Epoch 27/100\n",
      "18/18 [==============================] - 1s 55ms/step - loss: 0.1285 - accuracy: 0.9534 - val_loss: 0.3665 - val_accuracy: 0.8917\n",
      "Epoch 28/100\n",
      "18/18 [==============================] - 1s 56ms/step - loss: 0.0643 - accuracy: 0.9731 - val_loss: 0.3981 - val_accuracy: 0.8833\n",
      "Epoch 29/100\n",
      "18/18 [==============================] - 1s 55ms/step - loss: 0.0414 - accuracy: 0.9875 - val_loss: 0.4012 - val_accuracy: 0.9083\n",
      "Epoch 30/100\n",
      "18/18 [==============================] - 1s 55ms/step - loss: 0.1310 - accuracy: 0.9624 - val_loss: 0.4220 - val_accuracy: 0.8708\n",
      "Epoch 31/100\n",
      "18/18 [==============================] - 1s 56ms/step - loss: 0.0670 - accuracy: 0.9803 - val_loss: 0.3874 - val_accuracy: 0.8875\n",
      "Epoch 32/100\n",
      "18/18 [==============================] - 1s 55ms/step - loss: 0.0390 - accuracy: 0.9839 - val_loss: 0.4381 - val_accuracy: 0.8875\n",
      "Epoch 33/100\n",
      "18/18 [==============================] - 1s 54ms/step - loss: 0.0546 - accuracy: 0.9767 - val_loss: 0.4942 - val_accuracy: 0.8792\n",
      "Epoch 34/100\n",
      "18/18 [==============================] - 1s 55ms/step - loss: 0.0813 - accuracy: 0.9677 - val_loss: 0.4193 - val_accuracy: 0.8792\n",
      "Epoch 35/100\n",
      "18/18 [==============================] - 1s 56ms/step - loss: 0.0914 - accuracy: 0.9695 - val_loss: 0.4065 - val_accuracy: 0.8958\n",
      "Epoch 36/100\n",
      "18/18 [==============================] - 1s 57ms/step - loss: 0.0751 - accuracy: 0.9695 - val_loss: 0.4079 - val_accuracy: 0.8750\n",
      "Epoch 37/100\n",
      "18/18 [==============================] - 1s 55ms/step - loss: 0.0620 - accuracy: 0.9785 - val_loss: 0.4217 - val_accuracy: 0.9042\n",
      "Epoch 38/100\n",
      "18/18 [==============================] - 1s 59ms/step - loss: 0.0442 - accuracy: 0.9857 - val_loss: 0.4328 - val_accuracy: 0.8833\n",
      "Epoch 39/100\n",
      "18/18 [==============================] - 1s 57ms/step - loss: 0.0381 - accuracy: 0.9875 - val_loss: 0.4939 - val_accuracy: 0.8875\n",
      "Epoch 40/100\n",
      "18/18 [==============================] - 1s 56ms/step - loss: 0.0461 - accuracy: 0.9857 - val_loss: 0.4984 - val_accuracy: 0.8958\n",
      "Epoch 41/100\n",
      "18/18 [==============================] - 1s 56ms/step - loss: 0.0554 - accuracy: 0.9767 - val_loss: 0.5007 - val_accuracy: 0.8792\n",
      "Epoch 42/100\n",
      "18/18 [==============================] - 1s 55ms/step - loss: 0.0247 - accuracy: 0.9946 - val_loss: 0.5334 - val_accuracy: 0.9000\n",
      "Epoch 43/100\n",
      "18/18 [==============================] - 1s 57ms/step - loss: 0.0224 - accuracy: 0.9910 - val_loss: 0.5117 - val_accuracy: 0.9083\n",
      "Epoch 44/100\n",
      "18/18 [==============================] - 1s 56ms/step - loss: 0.0125 - accuracy: 0.9982 - val_loss: 0.5674 - val_accuracy: 0.9042\n",
      "Epoch 45/100\n",
      "18/18 [==============================] - 1s 57ms/step - loss: 0.0436 - accuracy: 0.9875 - val_loss: 0.5679 - val_accuracy: 0.8917\n",
      "Epoch 46/100\n",
      "18/18 [==============================] - 1s 56ms/step - loss: 0.0576 - accuracy: 0.9803 - val_loss: 0.5664 - val_accuracy: 0.8708\n",
      "Epoch 47/100\n",
      "18/18 [==============================] - 1s 56ms/step - loss: 0.0456 - accuracy: 0.9821 - val_loss: 0.5377 - val_accuracy: 0.8833\n",
      "Epoch 48/100\n",
      "18/18 [==============================] - 1s 57ms/step - loss: 0.0463 - accuracy: 0.9910 - val_loss: 0.4511 - val_accuracy: 0.8958\n",
      "Epoch 49/100\n",
      "18/18 [==============================] - 1s 54ms/step - loss: 0.0679 - accuracy: 0.9803 - val_loss: 0.3481 - val_accuracy: 0.9000\n",
      "Epoch 50/100\n",
      "18/18 [==============================] - 1s 54ms/step - loss: 0.0398 - accuracy: 0.9821 - val_loss: 0.3674 - val_accuracy: 0.9042\n",
      "Epoch 51/100\n",
      "18/18 [==============================] - 1s 55ms/step - loss: 0.0480 - accuracy: 0.9857 - val_loss: 0.3856 - val_accuracy: 0.9125\n",
      "Epoch 52/100\n",
      "18/18 [==============================] - 1s 55ms/step - loss: 0.1287 - accuracy: 0.9552 - val_loss: 0.4995 - val_accuracy: 0.8583\n",
      "Epoch 53/100\n",
      "18/18 [==============================] - 1s 54ms/step - loss: 0.0886 - accuracy: 0.9677 - val_loss: 0.6314 - val_accuracy: 0.8583\n",
      "Epoch 54/100\n",
      "18/18 [==============================] - 1s 55ms/step - loss: 0.0885 - accuracy: 0.9713 - val_loss: 0.2979 - val_accuracy: 0.9125\n",
      "Epoch 55/100\n",
      "18/18 [==============================] - 1s 63ms/step - loss: 0.0474 - accuracy: 0.9857 - val_loss: 0.3565 - val_accuracy: 0.9042\n",
      "Epoch 56/100\n",
      "18/18 [==============================] - 1s 58ms/step - loss: 0.0227 - accuracy: 0.9928 - val_loss: 0.4324 - val_accuracy: 0.8958\n",
      "Epoch 57/100\n",
      "18/18 [==============================] - 1s 55ms/step - loss: 0.0227 - accuracy: 0.9928 - val_loss: 0.4117 - val_accuracy: 0.9167\n",
      "Epoch 58/100\n"
     ]
    },
    {
     "name": "stdout",
     "output_type": "stream",
     "text": [
      "18/18 [==============================] - 1s 51ms/step - loss: 0.0224 - accuracy: 0.9946 - val_loss: 0.4293 - val_accuracy: 0.9000\n",
      "Epoch 59/100\n",
      "18/18 [==============================] - 1s 57ms/step - loss: 0.0201 - accuracy: 0.9946 - val_loss: 0.4830 - val_accuracy: 0.9042\n",
      "Epoch 60/100\n",
      "18/18 [==============================] - 1s 55ms/step - loss: 0.0093 - accuracy: 0.9964 - val_loss: 0.4723 - val_accuracy: 0.9042\n",
      "Epoch 61/100\n",
      "18/18 [==============================] - 1s 55ms/step - loss: 0.0127 - accuracy: 0.9964 - val_loss: 0.4844 - val_accuracy: 0.9083\n",
      "Epoch 62/100\n",
      "18/18 [==============================] - 1s 57ms/step - loss: 0.0173 - accuracy: 0.9928 - val_loss: 0.4927 - val_accuracy: 0.9042\n",
      "Epoch 63/100\n",
      "18/18 [==============================] - 1s 57ms/step - loss: 0.0406 - accuracy: 0.9857 - val_loss: 0.5367 - val_accuracy: 0.9000\n",
      "Epoch 64/100\n",
      "18/18 [==============================] - 1s 57ms/step - loss: 0.0497 - accuracy: 0.9910 - val_loss: 0.5167 - val_accuracy: 0.8917\n",
      "Epoch 65/100\n",
      "18/18 [==============================] - 1s 55ms/step - loss: 0.0191 - accuracy: 0.9910 - val_loss: 0.5178 - val_accuracy: 0.8958\n",
      "Epoch 66/100\n",
      "18/18 [==============================] - 1s 56ms/step - loss: 0.0097 - accuracy: 0.9964 - val_loss: 0.5390 - val_accuracy: 0.8833\n",
      "Epoch 67/100\n",
      "18/18 [==============================] - 1s 56ms/step - loss: 0.0060 - accuracy: 0.9982 - val_loss: 0.5670 - val_accuracy: 0.8958\n",
      "Epoch 68/100\n",
      "18/18 [==============================] - 1s 56ms/step - loss: 0.0037 - accuracy: 0.9982 - val_loss: 0.6068 - val_accuracy: 0.8917\n",
      "Epoch 69/100\n",
      "18/18 [==============================] - 1s 56ms/step - loss: 0.0063 - accuracy: 0.9982 - val_loss: 0.5807 - val_accuracy: 0.8917\n",
      "Epoch 70/100\n",
      "18/18 [==============================] - 1s 54ms/step - loss: 0.0030 - accuracy: 1.0000 - val_loss: 0.5736 - val_accuracy: 0.8958\n",
      "Epoch 71/100\n",
      "18/18 [==============================] - 1s 51ms/step - loss: 0.0012 - accuracy: 1.0000 - val_loss: 0.6176 - val_accuracy: 0.9000\n",
      "Epoch 72/100\n",
      "18/18 [==============================] - 1s 54ms/step - loss: 0.0137 - accuracy: 0.9982 - val_loss: 0.6967 - val_accuracy: 0.8917\n",
      "Epoch 73/100\n",
      "18/18 [==============================] - 1s 54ms/step - loss: 0.0245 - accuracy: 0.9928 - val_loss: 0.6430 - val_accuracy: 0.8875\n",
      "Epoch 74/100\n",
      "18/18 [==============================] - 1s 53ms/step - loss: 0.0141 - accuracy: 0.9946 - val_loss: 0.6312 - val_accuracy: 0.8875\n",
      "Epoch 75/100\n",
      "18/18 [==============================] - 1s 56ms/step - loss: 0.0149 - accuracy: 0.9946 - val_loss: 0.7014 - val_accuracy: 0.8875\n",
      "Epoch 76/100\n",
      "18/18 [==============================] - 1s 54ms/step - loss: 0.0063 - accuracy: 0.9982 - val_loss: 0.6178 - val_accuracy: 0.9000\n",
      "Epoch 77/100\n",
      "14/18 [======================>.......] - ETA: 0s - loss: 0.0014 - accuracy: 1.0000"
     ]
    }
   ],
   "source": [
    "model1.fit_model(100)"
   ]
  },
  {
   "cell_type": "code",
   "execution_count": null,
   "metadata": {},
   "outputs": [],
   "source": [
    "y_test = np.argmax(y_test, axis=1) # Convert one-hot to index\n",
    "y_pred = model1.model.predict(X_test, verbose=1)\n",
    "y_pred = np.argmax(y_pred,axis=1)"
   ]
  },
  {
   "cell_type": "code",
   "execution_count": null,
   "metadata": {},
   "outputs": [],
   "source": [
    "print(classification_report(y_test, y_pred))"
   ]
  },
  {
   "cell_type": "code",
   "execution_count": null,
   "metadata": {},
   "outputs": [],
   "source": [
    "print(confusion_matrix(y_test, y_pred))"
   ]
  },
  {
   "cell_type": "code",
   "execution_count": null,
   "metadata": {},
   "outputs": [],
   "source": []
  }
 ],
 "metadata": {
  "kernelspec": {
   "display_name": "Python 3",
   "language": "python",
   "name": "python3"
  },
  "language_info": {
   "codemirror_mode": {
    "name": "ipython",
    "version": 3
   },
   "file_extension": ".py",
   "mimetype": "text/x-python",
   "name": "python",
   "nbconvert_exporter": "python",
   "pygments_lexer": "ipython3",
   "version": "3.8.5"
  }
 },
 "nbformat": 4,
 "nbformat_minor": 2
}
